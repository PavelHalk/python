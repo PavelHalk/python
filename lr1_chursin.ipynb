{
 "cells": [
  {
   "cell_type": "code",
   "execution_count": 1,
   "id": "2cc14760",
   "metadata": {},
   "outputs": [],
   "source": [
    "#Задание 1\n",
    "import numpy as nmp"
   ]
  },
  {
   "cell_type": "code",
   "execution_count": 2,
   "id": "0050bb08",
   "metadata": {},
   "outputs": [],
   "source": [
    "#Создание матриц L и U\n",
    "def LU(orig):\n",
    "#получить размер оригинальной матрицы\n",
    "    n = orig.shape[0]\n",
    "#Создаем массив 1 с 1 по диагонали и остальными 0\n",
    "    l = nmp.eye(n)\n",
    "#Создаем матрицу из нулей\n",
    "    u = nmp.zeros((n,n))\n",
    "    \n",
    "# l - матрица с нулями над диагональю\n",
    "# и - матрица с нулями под диагональю\n",
    "# пройдусь по элементам\n",
    "    for i in range(n):\n",
    "        for j in range(n):\n",
    "            tmp = 0\n",
    "#если номер строки меньше или = номера столбцов\n",
    "            if i <= j:\n",
    "#для каждого элемента до главной диагонали\n",
    "                for k in range(i):\n",
    "                    tmp += l[i][k]*u[k][j]\n",
    "#значение элемента матрицы на главной диагонали = значению исходной матрицы - tmp\n",
    "                u[i][j] = orig[i][j] - tmp\n",
    "#иначе            \n",
    "            else:\n",
    "#генерируем L матрицу. Если номер строки > номера столбца\n",
    "                for k in range(j):\n",
    "                    tmp += l[i][k]*u[k][j]\n",
    "#элементы матрицы L = соответствующий элемент оригинальной - значение\n",
    "# временной переменной / значение матрицы и (элемент с индексом строки = столбцу)\n",
    "                l[i][j] = (orig[i][j] - tmp) / u[j][j]\n",
    "    return l,u"
   ]
  },
  {
   "cell_type": "code",
   "execution_count": 7,
   "id": "8b29fe4c",
   "metadata": {},
   "outputs": [],
   "source": [
    "def solution_Discrepancy(Matrix, inverse,b):\n",
    "    discrepancy = nmp.dot(Matrix, inverse)-b\n",
    "    return discrepancy"
   ]
  },
  {
   "cell_type": "code",
   "execution_count": 8,
   "id": "bfb5451d",
   "metadata": {},
   "outputs": [],
   "source": [
    "def det_LU(Matrix):\n",
    "    L,U = LU(Matrix)\n",
    "#присвою 1, т.к. дальше умножение\n",
    "    det = 1\n",
    "    for i in range(Matrix.shape[0]):\n",
    "        det *= U[i][i]\n",
    "    return det"
   ]
  },
  {
   "cell_type": "code",
   "execution_count": 9,
   "id": "1ebf6713",
   "metadata": {},
   "outputs": [],
   "source": [
    "def solve_LU(orig, b):\n",
    "    ##размер матрицы\n",
    "    n = orig.shape[0]\n",
    "    #произвести разложение\n",
    "    L,U = LU(orig)\n",
    "    #вектор нулей\n",
    "    y = nmp.zeros(n)\n",
    "    #циклический переход по элементам матрицы\n",
    "    for i in range(n):\n",
    "        tmp = 0\n",
    "        for j in range(i):\n",
    "##временная переменная += текущее значение j этого элемента вектора y * текущая точка\n",
    "            tmp += y[j]*L[i][j]\n",
    "#присвоить [i] значение элемента правой части с индексом i - значение времени\n",
    "        y[i] = (b[i]-tmp)/L[i][i]\n",
    "#еще один вектор нулей\n",
    "    x = nmp.zeros(n)\n",
    "#Цикл от n-1 до начала с шагом -1\n",
    "    for i in range(n-1,-1,-1):\n",
    "        tmp = 0\n",
    "        for j in range(n-1,i,-1):\n",
    "            tmp += x[j]*U[i][j]\n",
    "##найти x[i]\n",
    "        x[i] = (y[i]-tmp)/U[i][i]\n",
    "    return x"
   ]
  },
  {
   "cell_type": "code",
   "execution_count": 10,
   "id": "f4fc2b3c",
   "metadata": {},
   "outputs": [],
   "source": [
    "def inverse_LU(Matrix):\n",
    "#получить размер оригинальной матрицы\n",
    "    n = Matrix.shape[0]\n",
    "#Создаем массив 1 с 1 по диагонали и остальными\n",
    "    e = nmp.eye(n)\n",
    "#матрица из нулей - в будущем - обратная матрица\n",
    "    x = nmp.zeros((n,n))\n",
    "#для всего размера матрицы\n",
    "    for j in range(n):\n",
    "#значения по строкам для конкретного столбца\n",
    "        x[:,j] = solve_LU(Matrix,e[:,j])\n",
    "    return x"
   ]
  },
  {
   "cell_type": "code",
   "execution_count": 12,
   "id": "b8039936",
   "metadata": {},
   "outputs": [
    {
     "name": "stdout",
     "output_type": "stream",
     "text": [
      "Исходная матрица: \n",
      "[[ 1  2  3  4]\n",
      " [-1  2 -3  4]\n",
      " [ 0  1 -1  1]\n",
      " [ 1  1  1  1]]\n"
     ]
    }
   ],
   "source": [
    "#Example 1\n",
    "\n",
    "Matrix1 = nmp.array([[1,2,3,4],[-1,2,-3,4],[0,1,-1,1],[1,1,1,1]])\n",
    "b1 = nmp.array([30,10,3,10])\n",
    "L1,U1 = LU(Matrix1)\n",
    "print(\"Исходная матрица: \")\n",
    "print(Matrix1)"
   ]
  },
  {
   "cell_type": "code",
   "execution_count": 13,
   "id": "d925f879",
   "metadata": {},
   "outputs": [
    {
     "name": "stdout",
     "output_type": "stream",
     "text": [
      "Матрица L:\n",
      "[[ 1.    0.    0.    0.  ]\n",
      " [-1.    1.    0.    0.  ]\n",
      " [ 0.    0.25  1.    0.  ]\n",
      " [ 1.   -0.25  2.    1.  ]]\n"
     ]
    }
   ],
   "source": [
    "print(\"Матрица L:\")\n",
    "print(L1)"
   ]
  },
  {
   "cell_type": "code",
   "execution_count": 14,
   "id": "db457e3e",
   "metadata": {},
   "outputs": [
    {
     "name": "stdout",
     "output_type": "stream",
     "text": [
      "Матрица U:\n",
      "[[ 1.  2.  3.  4.]\n",
      " [ 0.  4.  0.  8.]\n",
      " [ 0.  0. -1. -1.]\n",
      " [ 0.  0.  0.  1.]]\n"
     ]
    }
   ],
   "source": [
    "print(\"Матрица U:\")\n",
    "print(U1)"
   ]
  },
  {
   "cell_type": "code",
   "execution_count": 15,
   "id": "61f7f647",
   "metadata": {},
   "outputs": [
    {
     "name": "stdout",
     "output_type": "stream",
     "text": [
      "Проверка правильности разложения (Matrix1=L1*U1):\n",
      "[[ 1.  2.  3.  4.]\n",
      " [-1.  2. -3.  4.]\n",
      " [ 0.  1. -1.  1.]\n",
      " [ 1.  1.  1.  1.]]\n"
     ]
    }
   ],
   "source": [
    "print(\"Проверка правильности разложения (Matrix1=L1*U1):\")\n",
    "print(nmp.dot(L1,U1))"
   ]
  },
  {
   "cell_type": "code",
   "execution_count": 16,
   "id": "6a2141b2",
   "metadata": {},
   "outputs": [
    {
     "name": "stdout",
     "output_type": "stream",
     "text": [
      "Определитель с помощью LU-разложения:\n",
      "-4.0\n"
     ]
    }
   ],
   "source": [
    "DetLUMatrix1 = det_LU(Matrix1)\n",
    "print(\"Определитель с помощью LU-разложения:\")\n",
    "print(DetLUMatrix1)"
   ]
  },
  {
   "cell_type": "code",
   "execution_count": 24,
   "id": "86db5a97",
   "metadata": {},
   "outputs": [
    {
     "data": {
      "text/plain": [
       "-4.0"
      ]
     },
     "execution_count": 24,
     "metadata": {},
     "output_type": "execute_result"
    }
   ],
   "source": [
    "#На 15 знаке после запятой точность расходится\n",
    "round(nmp.linalg.det(Matrix1),14)"
   ]
  },
  {
   "cell_type": "code",
   "execution_count": 25,
   "id": "6860fb33",
   "metadata": {},
   "outputs": [
    {
     "name": "stdout",
     "output_type": "stream",
     "text": [
      "Обратная матрица с помощью LU-разложения:\n",
      "[[-1.    1.   -3.    3.  ]\n",
      " [ 0.75 -1.25  4.   -2.  ]\n",
      " [ 0.5  -0.5   1.   -1.  ]\n",
      " [-0.25  0.75 -2.    1.  ]]\n",
      "\n",
      "Мультипликация обратной величины матрицы:\n",
      "[[-1.    1.   -3.    3.  ]\n",
      " [ 0.75 -1.25  4.   -2.  ]\n",
      " [ 0.5  -0.5   1.   -1.  ]\n",
      " [-0.25  0.75 -2.    1.  ]]\n"
     ]
    }
   ],
   "source": [
    "inverse1 = inverse_LU(Matrix1)\n",
    "print(\"Обратная матрица с помощью LU-разложения:\")\n",
    "print(inverse1)\n",
    "print(\"\")\n",
    "print(\"Мультипликация обратной величины матрицы:\")\n",
    "print(nmp.linalg.inv(Matrix1))"
   ]
  },
  {
   "cell_type": "code",
   "execution_count": 26,
   "id": "f9406fb1",
   "metadata": {},
   "outputs": [
    {
     "name": "stdout",
     "output_type": "stream",
     "text": [
      "Невязка решения: \n",
      "[0. 0. 0. 0.]\n"
     ]
    }
   ],
   "source": [
    "discrepancy = solution_Discrepancy(Matrix1,solve_LU(Matrix1,b1),b1)\n",
    "print(\"Невязка решения: \")\n",
    "print(discrepancy)"
   ]
  },
  {
   "cell_type": "code",
   "execution_count": 27,
   "id": "410ece6f",
   "metadata": {},
   "outputs": [
    {
     "name": "stdout",
     "output_type": "stream",
     "text": [
      "Решение системы (пример): \n",
      "[1. 2. 3. 4.]\n"
     ]
    }
   ],
   "source": [
    "task = solve_LU(Matrix1,b1)\n",
    "print(\"Решение системы (пример): \")\n",
    "print(task)"
   ]
  },
  {
   "cell_type": "code",
   "execution_count": 58,
   "id": "1e036736",
   "metadata": {},
   "outputs": [
    {
     "name": "stdout",
     "output_type": "stream",
     "text": [
      "Исходная матрица: \n",
      "[[1 1 1]\n",
      " [1 2 3]\n",
      " [1 3 6]]\n"
     ]
    }
   ],
   "source": [
    "#Example 2\n",
    "\n",
    "Matrix1_1 = nmp.array([[1,1,1],[1,2,3],[1,3,6]])\n",
    "b1_1 = nmp.array([3,2,-1])\n",
    "L1,U1 = LU(Matrix1_1)\n",
    "print(\"Исходная матрица: \")\n",
    "print(Matrix1_1)"
   ]
  },
  {
   "cell_type": "code",
   "execution_count": 59,
   "id": "47d9b9e1",
   "metadata": {},
   "outputs": [
    {
     "name": "stdout",
     "output_type": "stream",
     "text": [
      "Матрица L:\n",
      "[[1. 0. 0.]\n",
      " [1. 1. 0.]\n",
      " [1. 2. 1.]]\n"
     ]
    }
   ],
   "source": [
    "print(\"Матрица L:\")\n",
    "print(L1)"
   ]
  },
  {
   "cell_type": "code",
   "execution_count": 60,
   "id": "66c55a53",
   "metadata": {},
   "outputs": [
    {
     "name": "stdout",
     "output_type": "stream",
     "text": [
      "Матрица U:\n",
      "[[1. 1. 1.]\n",
      " [0. 1. 2.]\n",
      " [0. 0. 1.]]\n"
     ]
    }
   ],
   "source": [
    "print(\"Матрица U:\")\n",
    "print(U1)"
   ]
  },
  {
   "cell_type": "code",
   "execution_count": 61,
   "id": "579b55f3",
   "metadata": {},
   "outputs": [
    {
     "name": "stdout",
     "output_type": "stream",
     "text": [
      "Проверка правильности разложения (Matrix1=L1*U1):\n",
      "[[1. 1. 1.]\n",
      " [1. 2. 3.]\n",
      " [1. 3. 6.]]\n"
     ]
    }
   ],
   "source": [
    "print(\"Проверка правильности разложения (Matrix1=L1*U1):\")\n",
    "print(nmp.dot(L1,U1))"
   ]
  },
  {
   "cell_type": "code",
   "execution_count": 62,
   "id": "674f7aed",
   "metadata": {},
   "outputs": [
    {
     "name": "stdout",
     "output_type": "stream",
     "text": [
      "Определитель с помощью LU-разложения:\n",
      "1.0\n"
     ]
    }
   ],
   "source": [
    "DetLUMatrix1_1 = det_LU(Matrix1_1)\n",
    "print(\"Определитель с помощью LU-разложения:\")\n",
    "print(DetLUMatrix1_1)"
   ]
  },
  {
   "cell_type": "code",
   "execution_count": 63,
   "id": "18bf82d5",
   "metadata": {},
   "outputs": [
    {
     "data": {
      "text/plain": [
       "1.0"
      ]
     },
     "execution_count": 63,
     "metadata": {},
     "output_type": "execute_result"
    }
   ],
   "source": [
    "#На 15 знаке после запятой точность расходится\n",
    "round(nmp.linalg.det(Matrix1_1),14)"
   ]
  },
  {
   "cell_type": "code",
   "execution_count": 64,
   "id": "f5e23a1e",
   "metadata": {},
   "outputs": [
    {
     "name": "stdout",
     "output_type": "stream",
     "text": [
      "Обратная матрица с помощью LU-разложения:\n",
      "[[ 3. -3.  1.]\n",
      " [-3.  5. -2.]\n",
      " [ 1. -2.  1.]]\n",
      "\n",
      "Мультипликация обратной величины матрицы:\n",
      "[[ 3. -3.  1.]\n",
      " [-3.  5. -2.]\n",
      " [ 1. -2.  1.]]\n"
     ]
    }
   ],
   "source": [
    "inverse1_1 = inverse_LU(Matrix1_1)\n",
    "print(\"Обратная матрица с помощью LU-разложения:\")\n",
    "print(inverse1_1)\n",
    "print(\"\")\n",
    "print(\"Мультипликация обратной величины матрицы:\")\n",
    "print(nmp.linalg.inv(Matrix1_1))"
   ]
  },
  {
   "cell_type": "code",
   "execution_count": 65,
   "id": "8973fca9",
   "metadata": {},
   "outputs": [
    {
     "name": "stdout",
     "output_type": "stream",
     "text": [
      "Невязка решения: \n",
      "[0. 0. 0.]\n"
     ]
    }
   ],
   "source": [
    "discrepancy = solution_Discrepancy(Matrix1_1,solve_LU(Matrix1_1,b1_1),b1_1)\n",
    "print(\"Невязка решения: \")\n",
    "print(discrepancy)"
   ]
  },
  {
   "cell_type": "code",
   "execution_count": 66,
   "id": "fe214d4d",
   "metadata": {},
   "outputs": [
    {
     "name": "stdout",
     "output_type": "stream",
     "text": [
      "Решение системы (пример): \n",
      "[ 2.  3. -2.]\n"
     ]
    }
   ],
   "source": [
    "task = solve_LU(Matrix1_1,b1_1)\n",
    "print(\"Решение системы (пример): \")\n",
    "print(task)"
   ]
  },
  {
   "cell_type": "code",
   "execution_count": 71,
   "id": "f1e6a3a4",
   "metadata": {},
   "outputs": [
    {
     "name": "stdout",
     "output_type": "stream",
     "text": [
      "Решение системы 1: \n",
      "[1. 1. 1. 1.]\n"
     ]
    }
   ],
   "source": [
    "#Задание 2\n",
    "\n",
    "Matrix2 = nmp.array([[5,7,6,5],[7,10,8,7], [6,8,10,9],[5,7,9,10]])\n",
    "b1 = nmp.array([23,32,33,31])\n",
    "task1 = solve_LU(Matrix2,b1)\n",
    "print(\"Решение системы 1: \")\n",
    "print(task1)"
   ]
  },
  {
   "cell_type": "code",
   "execution_count": 72,
   "id": "37d45248",
   "metadata": {},
   "outputs": [
    {
     "name": "stdout",
     "output_type": "stream",
     "text": [
      "Невязка решения: \n",
      "[3.55271368e-15 0.00000000e+00 0.00000000e+00 3.55271368e-15]\n"
     ]
    }
   ],
   "source": [
    "discrepancy = solution_Discrepancy(Matrix2,solve_LU(Matrix2,b1),b1)\n",
    "print(\"Невязка решения: \")\n",
    "print(discrepancy)"
   ]
  },
  {
   "cell_type": "code",
   "execution_count": 73,
   "id": "2ee62662",
   "metadata": {},
   "outputs": [
    {
     "name": "stdout",
     "output_type": "stream",
     "text": [
      "Решение системы 2: \n",
      "[2.36 0.18 0.65 1.21]\n"
     ]
    }
   ],
   "source": [
    "b2 = nmp.array([23.01,31.99,32.99,31.01])\n",
    "task2 = solve_LU(Matrix2,b2)\n",
    "print(\"Решение системы 2: \")\n",
    "print(task2)"
   ]
  },
  {
   "cell_type": "code",
   "execution_count": 74,
   "id": "b7b652cc",
   "metadata": {},
   "outputs": [
    {
     "name": "stdout",
     "output_type": "stream",
     "text": [
      "Невязка решения: \n",
      "[3.55271368e-15 3.55271368e-15 0.00000000e+00 0.00000000e+00]\n"
     ]
    }
   ],
   "source": [
    "discrepancy = solution_Discrepancy(Matrix2,solve_LU(Matrix2,b2),b2)\n",
    "print(\"Невязка решения: \")\n",
    "print(discrepancy)"
   ]
  },
  {
   "cell_type": "code",
   "execution_count": 75,
   "id": "b577c427",
   "metadata": {},
   "outputs": [
    {
     "name": "stdout",
     "output_type": "stream",
     "text": [
      "Решение системы 3: \n",
      "[14.6 -7.2 -2.5  3.1]\n"
     ]
    }
   ],
   "source": [
    "b3 = nmp.array([23.1,31.9,32.9,31.1])\n",
    "task3 = solve_LU(Matrix2,b3)\n",
    "print(\"Решение системы 3: \")\n",
    "print(task3)"
   ]
  },
  {
   "cell_type": "code",
   "execution_count": 76,
   "id": "69d8a22c",
   "metadata": {},
   "outputs": [
    {
     "name": "stdout",
     "output_type": "stream",
     "text": [
      "Невязка решения: \n",
      "[ 0.00000000e+00  1.77635684e-14 -7.10542736e-15  0.00000000e+00]\n"
     ]
    }
   ],
   "source": [
    "discrepancy = solution_Discrepancy(Matrix2,solve_LU(Matrix2,b3),b3)\n",
    "print(\"Невязка решения: \")\n",
    "print(discrepancy)"
   ]
  },
  {
   "cell_type": "code",
   "execution_count": 78,
   "id": "40921180",
   "metadata": {},
   "outputs": [
    {
     "name": "stdout",
     "output_type": "stream",
     "text": [
      "58.02370205355739\n"
     ]
    }
   ],
   "source": [
    "#Задание 3 \n",
    "# linalg.norm - матричныe нормы\n",
    "\n",
    "print(nmp.linalg.norm(Matrix1)*nmp.linalg.norm(inverse_LU(Matrix1)))"
   ]
  },
  {
   "cell_type": "code",
   "execution_count": 79,
   "id": "0a844692",
   "metadata": {},
   "outputs": [
    {
     "name": "stdout",
     "output_type": "stream",
     "text": [
      "3009.578708058533\n"
     ]
    }
   ],
   "source": [
    "print(nmp.linalg.norm(Matrix2)*nmp.linalg.norm(inverse_LU(Matrix2)))"
   ]
  },
  {
   "cell_type": "code",
   "execution_count": 80,
   "id": "18c87d08",
   "metadata": {},
   "outputs": [
    {
     "name": "stdout",
     "output_type": "stream",
     "text": [
      "63.00000000000001\n"
     ]
    }
   ],
   "source": [
    "print(nmp.linalg.norm(Matrix1_1)*nmp.linalg.norm(inverse_LU(Matrix1_1)))"
   ]
  },
  {
   "cell_type": "code",
   "execution_count": null,
   "id": "d51e242e",
   "metadata": {},
   "outputs": [],
   "source": []
  }
 ],
 "metadata": {
  "kernelspec": {
   "display_name": "Python 3 (ipykernel)",
   "language": "python",
   "name": "python3"
  },
  "language_info": {
   "codemirror_mode": {
    "name": "ipython",
    "version": 3
   },
   "file_extension": ".py",
   "mimetype": "text/x-python",
   "name": "python",
   "nbconvert_exporter": "python",
   "pygments_lexer": "ipython3",
   "version": "3.11.3"
  }
 },
 "nbformat": 4,
 "nbformat_minor": 5
}
